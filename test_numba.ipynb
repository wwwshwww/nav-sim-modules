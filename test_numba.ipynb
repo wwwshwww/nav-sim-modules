{
 "cells": [
  {
   "cell_type": "code",
   "execution_count": 10,
   "metadata": {},
   "outputs": [],
   "source": [
    "import time\n",
    "from numba import jit, njit\n",
    "import numba\n",
    "import numpy as np\n",
    "import heapq"
   ]
  },
  {
   "cell_type": "code",
   "execution_count": 2,
   "metadata": {},
   "outputs": [],
   "source": [
    "def timer(func, *args):\n",
    "    start = time.time()\n",
    "    out = func(*args)\n",
    "    print(f'time: {time.time()-start} sec. \\noutput:\\n{out}')"
   ]
  },
  {
   "cell_type": "code",
   "execution_count": 3,
   "metadata": {},
   "outputs": [],
   "source": [
    "def ack(arr, n):\n",
    "    for i in range(len(arr)):\n",
    "        for j in range(len(arr[0])):\n",
    "            arr[i,j] = i*100 + j*10 + n\n",
    "    return arr"
   ]
  },
  {
   "cell_type": "code",
   "execution_count": 4,
   "metadata": {},
   "outputs": [
    {
     "name": "stdout",
     "output_type": "stream",
     "text": [
      "time: 14.716437578201294 sec. \n",
      "output:\n",
      "[[      9      19      29 ...   99979   99989   99999]\n",
      " [    109     119     129 ...  100079  100089  100099]\n",
      " [    209     219     229 ...  100179  100189  100199]\n",
      " ...\n",
      " [ 999709  999719  999729 ... 1099679 1099689 1099699]\n",
      " [ 999809  999819  999829 ... 1099779 1099789 1099799]\n",
      " [ 999909  999919  999929 ... 1099879 1099889 1099899]]\n"
     ]
    },
    {
     "data": {
      "text/plain": [
       "54995400000000"
      ]
     },
     "execution_count": 4,
     "metadata": {},
     "output_type": "execute_result"
    }
   ],
   "source": [
    "arr = np.zeros([10000,10000], dtype=np.int64)\n",
    "timer(ack, arr, 9)\n",
    "np.sum(arr)"
   ]
  },
  {
   "cell_type": "code",
   "execution_count": 5,
   "metadata": {},
   "outputs": [],
   "source": [
    "from numba import f8, i8\n",
    "@jit(i8[:,:](i8[:,:], i8),nopython=True)\n",
    "def jit_ack(arr, n):\n",
    "    for i in range(len(arr)):\n",
    "        for j in range(len(arr[0])):\n",
    "            arr[i,j] = i*100 + j*10 + n\n",
    "    return arr"
   ]
  },
  {
   "cell_type": "code",
   "execution_count": 6,
   "metadata": {},
   "outputs": [
    {
     "name": "stdout",
     "output_type": "stream",
     "text": [
      "time: 0.23197174072265625 sec. \n",
      "output:\n",
      "[[      9      19      29 ...   99979   99989   99999]\n",
      " [    109     119     129 ...  100079  100089  100099]\n",
      " [    209     219     229 ...  100179  100189  100199]\n",
      " ...\n",
      " [ 999709  999719  999729 ... 1099679 1099689 1099699]\n",
      " [ 999809  999819  999829 ... 1099779 1099789 1099799]\n",
      " [ 999909  999919  999929 ... 1099879 1099889 1099899]]\n"
     ]
    },
    {
     "data": {
      "text/plain": [
       "54995400000000"
      ]
     },
     "execution_count": 6,
     "metadata": {},
     "output_type": "execute_result"
    }
   ],
   "source": [
    "arr = np.zeros([10000,10000], dtype=np.int64)\n",
    "timer(jit_ack, arr, 9)\n",
    "np.sum(arr)"
   ]
  },
  {
   "cell_type": "code",
   "execution_count": 12,
   "metadata": {},
   "outputs": [],
   "source": [
    "def heap(q, arr):\n",
    "    qq = list(q)\n",
    "    heapq.heapify(qq)\n",
    "    c = 0\n",
    "    while len(qq) != 0:\n",
    "        arr[c] = heapq.heappop(qq)\n",
    "        c+=1"
   ]
  },
  {
   "cell_type": "code",
   "execution_count": 13,
   "metadata": {},
   "outputs": [],
   "source": [
    "@jit('void(i8[:],i8[:])', nopython=True)\n",
    "def heap_j(q, arr):\n",
    "    qq = list(q)\n",
    "    heapq.heapify(qq)\n",
    "    c = 0\n",
    "    while len(qq) != 0:\n",
    "        arr[c] = heapq.heappop(qq)\n",
    "        c+=1"
   ]
  },
  {
   "cell_type": "code",
   "execution_count": 14,
   "metadata": {},
   "outputs": [],
   "source": [
    "from numba import prange, i8\n",
    "@njit('i8[:](i8)')\n",
    "def create_random(n):\n",
    "    return np.array([np.random.randint(n) for _ in prange(n)], dtype=np.int64)"
   ]
  },
  {
   "cell_type": "code",
   "execution_count": 15,
   "metadata": {},
   "outputs": [],
   "source": [
    "N = 10000000\n",
    "l = create_random(N)\n",
    "result = np.empty_like(l, dtype=np.int64)"
   ]
  },
  {
   "cell_type": "code",
   "execution_count": 17,
   "metadata": {},
   "outputs": [
    {
     "name": "stdout",
     "output_type": "stream",
     "text": [
      "time: 17.24725842475891 sec. \n",
      "output:\n",
      "None\n"
     ]
    }
   ],
   "source": [
    "timer(heap,l,result)"
   ]
  },
  {
   "cell_type": "code",
   "execution_count": 16,
   "metadata": {},
   "outputs": [
    {
     "name": "stdout",
     "output_type": "stream",
     "text": [
      "time: 2.5699656009674072 sec. \n",
      "output:\n",
      "None\n"
     ]
    }
   ],
   "source": [
    "timer(heap_j,l,result)"
   ]
  },
  {
   "cell_type": "code",
   "execution_count": 55,
   "metadata": {},
   "outputs": [
    {
     "data": {
      "text/plain": [
       "array([      1,       2,       2, ..., 9999994, 9999997, 9999998])"
      ]
     },
     "execution_count": 55,
     "metadata": {},
     "output_type": "execute_result"
    }
   ],
   "source": [
    "result"
   ]
  },
  {
   "cell_type": "code",
   "execution_count": 62,
   "metadata": {},
   "outputs": [],
   "source": [
    "from numba import f4, i8, void\n",
    "@njit(void(i8[:,:], i8[:,:], i8))\n",
    "def create_pool_j(output, table, r):\n",
    "\n",
    "    for i in range(len(table)):\n",
    "        up = np.max(np.array([0, i-r]))\n",
    "        down = np.min(np.array([len(table)-1, i+r]))\n",
    "        for j in range(len(table[0])):\n",
    "            left = np.max(np.array([0, j-r]))\n",
    "            right = np.min(np.array([len(table[0])-1, j+r]))\n",
    "            output[i,j] = np.sum(table[up:down+1, left:right+1])\n",
    "\n",
    "            # s = 0\n",
    "            # for k in range(up, down+1):\n",
    "            #     for l in range(left, right+1):\n",
    "            #         s += table[k,l]\n",
    "            # output[i,j] = s\n",
    "    \n"
   ]
  },
  {
   "cell_type": "code",
   "execution_count": 54,
   "metadata": {},
   "outputs": [],
   "source": [
    "def create_pool(output, table, r):\n",
    "\n",
    "    for i in range(len(table)):\n",
    "        up = max([0, i-r])\n",
    "        down = min([len(table)-1, i+r])\n",
    "        for j in range(len(table[0])):\n",
    "            left = max([0, j-r])\n",
    "            right = min([len(table[0])-1, j+r])\n",
    "            output[i,j] = np.sum(table[up:down+1, left:right+1])"
   ]
  },
  {
   "cell_type": "code",
   "execution_count": 66,
   "metadata": {},
   "outputs": [],
   "source": [
    "m = 5000\n",
    "r = 1\n",
    "table = np.arange(m**2).reshape((m,m))\n",
    "output = np.empty_like(table)\n"
   ]
  },
  {
   "cell_type": "code",
   "execution_count": 58,
   "metadata": {},
   "outputs": [],
   "source": [
    "create_pool(output, table,r)"
   ]
  },
  {
   "cell_type": "code",
   "execution_count": 59,
   "metadata": {},
   "outputs": [],
   "source": [
    "create_pool_j(output, table, r)"
   ]
  },
  {
   "cell_type": "code",
   "execution_count": 67,
   "metadata": {},
   "outputs": [],
   "source": [
    "for i in range(len(table)):\n",
    "    for j in range(len(table[1])):\n",
    "        s = len(table)+len(table[0])"
   ]
  },
  {
   "cell_type": "code",
   "execution_count": 68,
   "metadata": {},
   "outputs": [],
   "source": [
    "l1 = len(table)\n",
    "l2 = len(table[0])\n",
    "for i in range(len(table)):\n",
    "    for j in range(len(table[1])):\n",
    "        s = l1+l2"
   ]
  },
  {
   "cell_type": "code",
   "execution_count": null,
   "metadata": {},
   "outputs": [],
   "source": []
  }
 ],
 "metadata": {
  "interpreter": {
   "hash": "e83b040d5ead0e69cb5d33b3616c97f505b35565d2b735f985e49924354f86a8"
  },
  "kernelspec": {
   "display_name": "Python 3.8.10 64-bit ('.venv': poetry)",
   "language": "python",
   "name": "python3"
  },
  "language_info": {
   "codemirror_mode": {
    "name": "ipython",
    "version": 3
   },
   "file_extension": ".py",
   "mimetype": "text/x-python",
   "name": "python",
   "nbconvert_exporter": "python",
   "pygments_lexer": "ipython3",
   "version": "3.8.10"
  },
  "orig_nbformat": 4
 },
 "nbformat": 4,
 "nbformat_minor": 2
}
